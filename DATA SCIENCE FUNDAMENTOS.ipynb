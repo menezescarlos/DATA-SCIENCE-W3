{
 "cells": [
  {
   "cell_type": "markdown",
   "metadata": {},
   "source": [
    "### Data Science - Data Preparation\n",
    "Carlos Menezes de Oliveira"
   ]
  },
  {
   "cell_type": "markdown",
   "metadata": {},
   "source": [
    "1. Pandas - Esta biblioteca é usada para operações estruturadas de dados, como importação de arquivos CSV, criação de dataframes e preparação de dados\n",
    "2. Numpy - Esta é uma biblioteca matemática. Possui um poderoso objeto de matriz N-dimensional, álgebra linear, transformada de Fourier, etc.\n",
    "3. Matplotlib - Esta biblioteca é usada para visualização de dados.\n",
    "4. SciPy - Esta biblioteca possui módulos de álgebra linear"
   ]
  },
  {
   "cell_type": "markdown",
   "metadata": {},
   "source": [
    "#### Importando aqrquivo CSV com pandas\n",
    "\n",
    "A tabela a seguir mostra uma tabela de banco de dados com dados de saúde extraídos de um relógio esportivo:"
   ]
  },
  {
   "cell_type": "code",
   "execution_count": 15,
   "metadata": {},
   "outputs": [
    {
     "name": "stdout",
     "output_type": "stream",
     "text": [
      "    Duration Average_Pulse Max_Pulse  Calorie_Burnage  Hours_Work  Hours_Sleep\n",
      "0       30.0            80       120            240.0        10.0          7.0\n",
      "1       45.0            85       120            250.0        10.0          7.0\n",
      "2       45.0            90       130            260.0         8.0          7.0\n",
      "3       60.0            95       130            270.0         8.0          7.0\n",
      "4       60.0           100       140            280.0         0.0          7.0\n",
      "5        NaN           NaN       NaN              NaN         NaN          NaN\n",
      "6       60.0           105       140            290.0         7.0          8.0\n",
      "7       60.0           110       145            300.0         7.0          8.0\n",
      "8       45.0           NaN        AF              NaN         8.0          8.0\n",
      "9       45.0           115       145            310.0         8.0          8.0\n",
      "10      60.0           120       150            320.0         0.0          8.0\n",
      "11      60.0         9 000       130              NaN         NaN          8.0\n",
      "12      45.0           125       150            330.0         8.0          8.0\n"
     ]
    }
   ],
   "source": [
    "import pandas as pd\n",
    "\n",
    "base = pd.read_csv(\"C:/Users/carlos.oliveira/OneDrive - Faculdade Impacta Tecnologia/IMPACTA 2024/CURSOS LIVRES/DATA SCIENCE W3/data.csv\", header=0, sep=\",\")\n",
    "\n",
    "print(base)"
   ]
  },
  {
   "cell_type": "code",
   "execution_count": 16,
   "metadata": {},
   "outputs": [
    {
     "data": {
      "text/html": [
       "<div>\n",
       "<style scoped>\n",
       "    .dataframe tbody tr th:only-of-type {\n",
       "        vertical-align: middle;\n",
       "    }\n",
       "\n",
       "    .dataframe tbody tr th {\n",
       "        vertical-align: top;\n",
       "    }\n",
       "\n",
       "    .dataframe thead th {\n",
       "        text-align: right;\n",
       "    }\n",
       "</style>\n",
       "<table border=\"1\" class=\"dataframe\">\n",
       "  <thead>\n",
       "    <tr style=\"text-align: right;\">\n",
       "      <th></th>\n",
       "      <th>Duration</th>\n",
       "      <th>Average_Pulse</th>\n",
       "      <th>Max_Pulse</th>\n",
       "      <th>Calorie_Burnage</th>\n",
       "      <th>Hours_Work</th>\n",
       "      <th>Hours_Sleep</th>\n",
       "    </tr>\n",
       "  </thead>\n",
       "  <tbody>\n",
       "    <tr>\n",
       "      <th>0</th>\n",
       "      <td>30.0</td>\n",
       "      <td>80</td>\n",
       "      <td>120</td>\n",
       "      <td>240.0</td>\n",
       "      <td>10.0</td>\n",
       "      <td>7.0</td>\n",
       "    </tr>\n",
       "    <tr>\n",
       "      <th>1</th>\n",
       "      <td>45.0</td>\n",
       "      <td>85</td>\n",
       "      <td>120</td>\n",
       "      <td>250.0</td>\n",
       "      <td>10.0</td>\n",
       "      <td>7.0</td>\n",
       "    </tr>\n",
       "    <tr>\n",
       "      <th>2</th>\n",
       "      <td>45.0</td>\n",
       "      <td>90</td>\n",
       "      <td>130</td>\n",
       "      <td>260.0</td>\n",
       "      <td>8.0</td>\n",
       "      <td>7.0</td>\n",
       "    </tr>\n",
       "    <tr>\n",
       "      <th>3</th>\n",
       "      <td>60.0</td>\n",
       "      <td>95</td>\n",
       "      <td>130</td>\n",
       "      <td>270.0</td>\n",
       "      <td>8.0</td>\n",
       "      <td>7.0</td>\n",
       "    </tr>\n",
       "    <tr>\n",
       "      <th>4</th>\n",
       "      <td>60.0</td>\n",
       "      <td>100</td>\n",
       "      <td>140</td>\n",
       "      <td>280.0</td>\n",
       "      <td>0.0</td>\n",
       "      <td>7.0</td>\n",
       "    </tr>\n",
       "  </tbody>\n",
       "</table>\n",
       "</div>"
      ],
      "text/plain": [
       "   Duration Average_Pulse Max_Pulse  Calorie_Burnage  Hours_Work  Hours_Sleep\n",
       "0      30.0            80       120            240.0        10.0          7.0\n",
       "1      45.0            85       120            250.0        10.0          7.0\n",
       "2      45.0            90       130            260.0         8.0          7.0\n",
       "3      60.0            95       130            270.0         8.0          7.0\n",
       "4      60.0           100       140            280.0         0.0          7.0"
      ]
     },
     "execution_count": 16,
     "metadata": {},
     "output_type": "execute_result"
    }
   ],
   "source": [
    "base.head()"
   ]
  },
  {
   "cell_type": "markdown",
   "metadata": {},
   "source": [
    "### Limpeza de dados\n",
    "\n",
    "Podemos usar a dropna()função para remover os NaNs. axis=0 significa que queremos remover todas as linhas que possuem um valor NaN:\n"
   ]
  },
  {
   "cell_type": "code",
   "execution_count": 21,
   "metadata": {},
   "outputs": [
    {
     "name": "stdout",
     "output_type": "stream",
     "text": [
      "    Duration Average_Pulse Max_Pulse  Calorie_Burnage  Hours_Work  Hours_Sleep\n",
      "0       30.0            80       120            240.0        10.0          7.0\n",
      "1       45.0            85       120            250.0        10.0          7.0\n",
      "2       45.0            90       130            260.0         8.0          7.0\n",
      "3       60.0            95       130            270.0         8.0          7.0\n",
      "4       60.0           100       140            280.0         0.0          7.0\n",
      "6       60.0           105       140            290.0         7.0          8.0\n",
      "7       60.0           110       145            300.0         7.0          8.0\n",
      "9       45.0           115       145            310.0         8.0          8.0\n",
      "10      60.0           120       150            320.0         0.0          8.0\n",
      "12      45.0           125       150            330.0         8.0          8.0\n"
     ]
    }
   ],
   "source": [
    "base.dropna(axis=0, inplace=True)\n",
    "\n",
    "print(base)"
   ]
  },
  {
   "cell_type": "markdown",
   "metadata": {},
   "source": [
    "### Tipos de dados\n",
    "\n",
    "Podemos usar a info() função para listar os tipos de dados em nosso conjunto de dados: "
   ]
  },
  {
   "cell_type": "code",
   "execution_count": 22,
   "metadata": {},
   "outputs": [
    {
     "name": "stdout",
     "output_type": "stream",
     "text": [
      "<class 'pandas.core.frame.DataFrame'>\n",
      "Index: 10 entries, 0 to 12\n",
      "Data columns (total 6 columns):\n",
      " #   Column           Non-Null Count  Dtype  \n",
      "---  ------           --------------  -----  \n",
      " 0   Duration         10 non-null     float64\n",
      " 1   Average_Pulse    10 non-null     object \n",
      " 2   Max_Pulse        10 non-null     object \n",
      " 3   Calorie_Burnage  10 non-null     float64\n",
      " 4   Hours_Work       10 non-null     float64\n",
      " 5   Hours_Sleep      10 non-null     float64\n",
      "dtypes: float64(4), object(2)\n",
      "memory usage: 560.0+ bytes\n",
      "None\n"
     ]
    }
   ],
   "source": [
    "print(base.info())"
   ]
  },
  {
   "cell_type": "markdown",
   "metadata": {},
   "source": [
    "Não podemos usar objetos para calcular e realizar análises aqui. Devemos converter o tipo object para float64 (float64 é um número com decimal em Python).<br>\n",
    "Podemos usar a astype() função para converter os dados em float64."
   ]
  },
  {
   "cell_type": "code",
   "execution_count": 23,
   "metadata": {},
   "outputs": [
    {
     "name": "stdout",
     "output_type": "stream",
     "text": [
      "<class 'pandas.core.frame.DataFrame'>\n",
      "Index: 10 entries, 0 to 12\n",
      "Data columns (total 6 columns):\n",
      " #   Column           Non-Null Count  Dtype  \n",
      "---  ------           --------------  -----  \n",
      " 0   Duration         10 non-null     float64\n",
      " 1   Average_Pulse    10 non-null     float64\n",
      " 2   Max_Pulse        10 non-null     float64\n",
      " 3   Calorie_Burnage  10 non-null     float64\n",
      " 4   Hours_Work       10 non-null     float64\n",
      " 5   Hours_Sleep      10 non-null     float64\n",
      "dtypes: float64(6)\n",
      "memory usage: 560.0 bytes\n",
      "None\n"
     ]
    }
   ],
   "source": [
    "base[\"Average_Pulse\"] = base[\"Average_Pulse\"].astype(float)\n",
    "base[\"Max_Pulse\"] = base[\"Max_Pulse\"].astype(float)\n",
    "\n",
    "print(base.info())"
   ]
  },
  {
   "cell_type": "markdown",
   "metadata": {},
   "source": [
    "### Analise os dados\n",
    "\n",
    "Podemos usar a describe() função em Python para resumir os dados:<br>\n",
    "\n",
    "Contar - Conta o número de observações<br>\n",
    "Média - O valor médio<br>\n",
    "Std - Desvio padrão (explicado no capítulo de estatísticas)<br>\n",
    "Mínimo - O valor mais baixo<br>\n",
    "25% , 50% e 75% são percentis (explicados no capítulo de estatísticas)<br>\n",
    "Máx. - O valor mais alto<br>"
   ]
  },
  {
   "cell_type": "code",
   "execution_count": 27,
   "metadata": {},
   "outputs": [
    {
     "name": "stdout",
     "output_type": "stream",
     "text": [
      "        Duration  Average_Pulse   Max_Pulse  Calorie_Burnage  Hours_Work  \\\n",
      "count  10.000000      10.000000   10.000000        10.000000   10.000000   \n",
      "mean   51.000000     102.500000  137.000000       285.000000    6.600000   \n",
      "std    10.488088      15.138252   11.352924        30.276504    3.627059   \n",
      "min    30.000000      80.000000  120.000000       240.000000    0.000000   \n",
      "25%    45.000000      91.250000  130.000000       262.500000    7.000000   \n",
      "50%    52.500000     102.500000  140.000000       285.000000    8.000000   \n",
      "75%    60.000000     113.750000  145.000000       307.500000    8.000000   \n",
      "max    60.000000     125.000000  150.000000       330.000000   10.000000   \n",
      "\n",
      "       Hours_Sleep  \n",
      "count    10.000000  \n",
      "mean      7.500000  \n",
      "std       0.527046  \n",
      "min       7.000000  \n",
      "25%       7.000000  \n",
      "50%       7.500000  \n",
      "75%       8.000000  \n",
      "max       8.000000  \n"
     ]
    }
   ],
   "source": [
    "print(base.describe())"
   ]
  },
  {
   "cell_type": "markdown",
   "metadata": {},
   "source": [
    "### Funções Lineares\n",
    "\n",
    "Em matemática, uma função é usada para relacionar uma variável a outra variável.<br>\n",
    "\n",
    "Uma função linear possui uma variável independente (x) e uma variável dependente (y) e tem a seguinte forma:<br>\n",
    "````\n",
    "y = f(x) = ax + b\n",
    "````\n",
    "Explicação:\n",
    "\n",
    "f(x) = a saída (a variável dependente)<br>\n",
    "x = a entrada (a variável independente)<br>\n",
    "a = inclinação = é o coeficiente da variável independente. Dá a taxa de variação da variável dependente<br>\n",
    "b = interceptação = é o valor da variável dependente quando x = 0. É também o ponto onde a linha diagonal cruza o eixo vertical.<br>\n"
   ]
  },
  {
   "cell_type": "markdown",
   "metadata": {},
   "source": [
    "Agora, podemos primeiro representar graficamente os valores de Average_Pulse em relação a Calorie_Burnage usando a biblioteca matplotlib.<br>\n",
    "A plot() função é usada para fazer um gráfico de classificação hexagonal 2D dos pontos x,y:"
   ]
  },
  {
   "cell_type": "code",
   "execution_count": 31,
   "metadata": {},
   "outputs": [
    {
     "data": {
      "image/png": "[encoded data removed]",
      "text/plain": [
       "<Figure size 640x480 with 1 Axes>"
      ]
     },
     "metadata": {},
     "output_type": "display_data"
    }
   ],
   "source": [
    "import matplotlib.pyplot as plt\n",
    "\n",
    "base.plot(x ='Average_Pulse', y='Calorie_Burnage', kind='line'),\n",
    "plt.ylim(ymin=0)\n",
    "plt.xlim(xmin=0)\n",
    "\n",
    "plt.show()"
   ]
  },
  {
   "cell_type": "code",
   "execution_count": 32,
   "metadata": {},
   "outputs": [
    {
     "name": "stdout",
     "output_type": "stream",
     "text": [
      "2.0\n"
     ]
    }
   ],
   "source": [
    "def slope(x1, y1, x2, y2):\n",
    "  s = (y2-y1)/(x2-x1)\n",
    "  return s\n",
    "\n",
    "print (slope(80,240,90,260))"
   ]
  },
  {
   "cell_type": "markdown",
   "metadata": {},
   "source": [
    "### Encontre a inclinação e a interceptação usando Python\n",
    "A np.polyfit() função retorna a inclinação e a interceptação."
   ]
  },
  {
   "cell_type": "code",
   "execution_count": 34,
   "metadata": {},
   "outputs": [
    {
     "name": "stdout",
     "output_type": "stream",
     "text": [
      "[ 2. 80.]\n"
     ]
    }
   ],
   "source": [
    "import pandas as pd\n",
    "import numpy as np\n",
    "\n",
    "\n",
    "x = base[\"Average_Pulse\"]\n",
    "y = base[\"Calorie_Burnage\"]\n",
    "slope_intercept = np.polyfit(x,y,1)\n",
    "\n",
    "print(slope_intercept)"
   ]
  },
  {
   "cell_type": "code",
   "execution_count": 35,
   "metadata": {},
   "outputs": [
    {
     "name": "stdout",
     "output_type": "stream",
     "text": [
      "350\n"
     ]
    }
   ],
   "source": [
    "def my_function(x):\n",
    "  return 2*x + 80\n",
    "\n",
    "print (my_function(135))"
   ]
  },
  {
   "cell_type": "code",
   "execution_count": 36,
   "metadata": {},
   "outputs": [
    {
     "data": {
      "image/png": "[encoded data removed]",
      "text/plain": [
       "<Figure size 640x480 with 1 Axes>"
      ]
     },
     "metadata": {},
     "output_type": "display_data"
    }
   ],
   "source": [
    "import matplotlib.pyplot as plt\n",
    "\n",
    "base.plot(x ='Average_Pulse', y='Calorie_Burnage', kind='line'),\n",
    "plt.ylim(ymin=0, ymax=400)\n",
    "plt.xlim(xmin=0, xmax=150)\n",
    "\n",
    "plt.show()"
   ]
  },
  {
   "cell_type": "markdown",
   "metadata": {},
   "source": [
    "### Ciência de Dados - Introdução à Estatística\n",
    "Quando criamos um modelo de previsão, devemos avaliar a confiabilidade da previsão.\n",
    "\n",
    "#### Estatísticas descritivas\n",
    "Contar, Soma, Desvio padrão, Percentil, Média, Etc.."
   ]
  },
  {
   "cell_type": "code",
   "execution_count": 37,
   "metadata": {},
   "outputs": [
    {
     "name": "stdout",
     "output_type": "stream",
     "text": [
      "        Duration  Average_Pulse   Max_Pulse  Calorie_Burnage  Hours_Work  \\\n",
      "count  10.000000      10.000000   10.000000        10.000000   10.000000   \n",
      "mean   51.000000     102.500000  137.000000       285.000000    6.600000   \n",
      "std    10.488088      15.138252   11.352924        30.276504    3.627059   \n",
      "min    30.000000      80.000000  120.000000       240.000000    0.000000   \n",
      "25%    45.000000      91.250000  130.000000       262.500000    7.000000   \n",
      "50%    52.500000     102.500000  140.000000       285.000000    8.000000   \n",
      "75%    60.000000     113.750000  145.000000       307.500000    8.000000   \n",
      "max    60.000000     125.000000  150.000000       330.000000   10.000000   \n",
      "\n",
      "       Hours_Sleep  \n",
      "count    10.000000  \n",
      "mean      7.500000  \n",
      "std       0.527046  \n",
      "min       7.000000  \n",
      "25%       7.000000  \n",
      "50%       7.500000  \n",
      "75%       8.000000  \n",
      "max       8.000000  \n"
     ]
    }
   ],
   "source": [
    "print (base.describe())"
   ]
  },
  {
   "cell_type": "markdown",
   "metadata": {},
   "source": [
    "O percentil 25% de Average_Pulse significa que 25% de todas as sessões de treinamento têm uma pulsação média de 100 batimentos por minuto ou menos. Se invertermos a afirmação, isso significa que 75% de todas as sessões de treino têm uma pulsação média de 100 batimentos por minuto ou mais.<br>\n",
    "O percentil 75% de Average_Pulse significa que 75% de todas as sessões de treinamento têm uma pulsação média de 111 ou inferior. Se invertermos a afirmação, isso significa que 25% de todas as sessões de treino têm uma pulsação média de 111 batimentos por minuto ou mais."
   ]
  },
  {
   "cell_type": "code",
   "execution_count": 38,
   "metadata": {},
   "outputs": [
    {
     "name": "stdout",
     "output_type": "stream",
     "text": [
      "120.0\n"
     ]
    }
   ],
   "source": [
    "import numpy as np\n",
    "\n",
    "Max_Pulse= base[\"Max_Pulse\"]\n",
    "percentile10 = np.percentile(Max_Pulse, 10)\n",
    "print(percentile10)"
   ]
  },
  {
   "cell_type": "markdown",
   "metadata": {},
   "source": [
    "#### Desvio Padrão\n",
    "Uma função matemática terá dificuldades em prever valores precisos, se as observações estiverem \"dispersas\". O desvio padrão é uma medida de incerteza.\n",
    "\n",
    "Um desvio padrão baixo significa que a maioria dos números está próxima do valor médio (médio).\n",
    "\n",
    "Um desvio padrão elevado significa que os valores estão espalhados por uma faixa mais ampla."
   ]
  },
  {
   "cell_type": "code",
   "execution_count": 39,
   "metadata": {},
   "outputs": [
    {
     "name": "stdout",
     "output_type": "stream",
     "text": [
      "Duration            9.949874\n",
      "Average_Pulse      14.361407\n",
      "Max_Pulse          10.770330\n",
      "Calorie_Burnage    28.722813\n",
      "Hours_Work          3.440930\n",
      "Hours_Sleep         0.500000\n",
      "dtype: float64\n"
     ]
    },
    {
     "name": "stderr",
     "output_type": "stream",
     "text": [
      "c:\\Users\\carlos.oliveira\\AppData\\Local\\Programs\\Python\\Python312\\Lib\\site-packages\\numpy\\_core\\fromnumeric.py:3800: FutureWarning: The behavior of DataFrame.std with axis=None is deprecated, in a future version this will reduce over both axes and return a scalar. To retain the old behavior, pass axis=0 (or do not pass axis)\n",
      "  return std(axis=axis, dtype=dtype, out=out, ddof=ddof, **kwargs)\n"
     ]
    }
   ],
   "source": [
    "import numpy as np\n",
    "\n",
    "std = np.std(base)\n",
    "print(std)"
   ]
  },
  {
   "cell_type": "markdown",
   "metadata": {},
   "source": [
    "#### Coeficiente de variação\n",
    "\n",
    "O coeficiente de variação é usado para se ter uma ideia de quão grande é o desvio padrão.\n",
    "\n",
    "````\n",
    "Coefficient of Variation = Standard Deviation / Mean\n",
    "````"
   ]
  },
  {
   "cell_type": "code",
   "execution_count": 40,
   "metadata": {},
   "outputs": [
    {
     "name": "stdout",
     "output_type": "stream",
     "text": [
      "Duration           0.101254\n",
      "Average_Pulse      0.146147\n",
      "Max_Pulse          0.109603\n",
      "Calorie_Burnage    0.292295\n",
      "Hours_Work         0.035016\n",
      "Hours_Sleep        0.005088\n",
      "dtype: float64\n"
     ]
    },
    {
     "name": "stderr",
     "output_type": "stream",
     "text": [
      "c:\\Users\\carlos.oliveira\\AppData\\Local\\Programs\\Python\\Python312\\Lib\\site-packages\\numpy\\_core\\fromnumeric.py:3800: FutureWarning: The behavior of DataFrame.std with axis=None is deprecated, in a future version this will reduce over both axes and return a scalar. To retain the old behavior, pass axis=0 (or do not pass axis)\n",
      "  return std(axis=axis, dtype=dtype, out=out, ddof=ddof, **kwargs)\n"
     ]
    }
   ],
   "source": [
    "import numpy as np\n",
    "\n",
    "cv = np.std(base) / np.mean(base)\n",
    "print(cv)"
   ]
  },
  {
   "cell_type": "markdown",
   "metadata": {},
   "source": [
    "### Ciência de Dados - Variância Estatística\n",
    "\n",
    "#### Variância\n",
    "\n",
    "A variação é outro número que indica quão dispersos estão os valores.\n",
    "\n",
    "Podemos usar a var() função do Numpy para encontrar a variância (lembre-se que agora usamos o primeiro conjunto de dados com 10 observações):"
   ]
  },
  {
   "cell_type": "code",
   "execution_count": 41,
   "metadata": {},
   "outputs": [
    {
     "name": "stdout",
     "output_type": "stream",
     "text": [
      "Duration            99.00\n",
      "Average_Pulse      206.25\n",
      "Max_Pulse          116.00\n",
      "Calorie_Burnage    825.00\n",
      "Hours_Work          11.84\n",
      "Hours_Sleep          0.25\n",
      "dtype: float64\n"
     ]
    },
    {
     "name": "stderr",
     "output_type": "stream",
     "text": [
      "c:\\Users\\carlos.oliveira\\AppData\\Local\\Programs\\Python\\Python312\\Lib\\site-packages\\numpy\\_core\\fromnumeric.py:4006: FutureWarning: The behavior of DataFrame.var with axis=None is deprecated, in a future version this will reduce over both axes and return a scalar. To retain the old behavior, pass axis=0 (or do not pass axis)\n",
      "  return var(axis=axis, dtype=dtype, out=out, ddof=ddof, **kwargs)\n"
     ]
    }
   ],
   "source": [
    "import numpy as np\n",
    "\n",
    "var = np.var(base)\n",
    "print(var)"
   ]
  },
  {
   "cell_type": "markdown",
   "metadata": {},
   "source": [
    "### Ciência de Dados - Correlação Estatística\n",
    "\n",
    "#### Correlação\n",
    "A correlação mede a relação entre duas variáveis.\n",
    "\n",
    "Mencionamos que uma função tem o propósito de prever um valor, convertendo a entrada (x) em saída (f(x)). Podemos dizer também que uma função usa a relação entre duas variáveis ​​para previsão.\n",
    "\n",
    "O coeficiente de correlação nunca pode ser inferior a -1 ou superior a 1.\n",
    "\n",
    "1 = existe uma relação linear perfeita entre as variáveis ​​(como Average_Pulse versus Calorie_Burnage)<br>\n",
    "0 = não há relação linear entre as variáveis<br>\n",
    "-1 = existe uma relação linear negativa perfeita entre as variáveis ​​(por exemplo, menos horas trabalhadas, leva a uma maior queima de calorias durante uma sessão de treino)<br>"
   ]
  },
  {
   "cell_type": "markdown",
   "metadata": {},
   "source": [
    "#### Exemplo de relacionamento linear perfeito (coeficiente de correlação = 1)"
   ]
  },
  {
   "cell_type": "code",
   "execution_count": 44,
   "metadata": {},
   "outputs": [
    {
     "data": {
      "image/png": "[encoded data removed]",
      "text/plain": [
       "<Figure size 640x480 with 1 Axes>"
      ]
     },
     "metadata": {},
     "output_type": "display_data"
    }
   ],
   "source": [
    "import matplotlib.pyplot as plt\n",
    "\n",
    "base.plot(x ='Average_Pulse', y='Calorie_Burnage', kind='scatter')\n",
    "plt.show()"
   ]
  },
  {
   "cell_type": "markdown",
   "metadata": {},
   "source": [
    "#### Exemplo de uma relação linear negativa perfeita (coeficiente de correlação = -1)"
   ]
  },
  {
   "cell_type": "code",
   "execution_count": 45,
   "metadata": {},
   "outputs": [
    {
     "data": {
      "image/png": "[encoded data removed]",
      "text/plain": [
       "<Figure size 640x480 with 1 Axes>"
      ]
     },
     "metadata": {},
     "output_type": "display_data"
    }
   ],
   "source": [
    "import pandas as pd\n",
    "import matplotlib.pyplot as plt\n",
    "\n",
    "negative_corr = {'Hours_Work_Before_Training': [10,9,8,7,6,5,4,3,2,1],\n",
    "'Calorie_Burnage': [220,240,260,280,300,320,340,360,380,400]}\n",
    "negative_corr = pd.DataFrame(data=negative_corr)\n",
    "\n",
    "negative_corr.plot(x ='Hours_Work_Before_Training', y='Calorie_Burnage', kind='scatter')\n",
    "plt.show()"
   ]
  },
  {
   "cell_type": "markdown",
   "metadata": {},
   "source": [
    "#### Exemplo de nenhuma relação linear (coeficiente de correlação = 0)"
   ]
  },
  {
   "cell_type": "code",
   "execution_count": 47,
   "metadata": {},
   "outputs": [
    {
     "data": {
      "image/png": "[encoded data removed]",
      "text/plain": [
       "<Figure size 640x480 with 1 Axes>"
      ]
     },
     "metadata": {},
     "output_type": "display_data"
    }
   ],
   "source": [
    "import matplotlib.pyplot as plt\n",
    "\n",
    "base.plot(x ='Duration', y='Max_Pulse', kind='scatter')\n",
    "plt.show()"
   ]
  },
  {
   "cell_type": "markdown",
   "metadata": {},
   "source": [
    "### Ciência de Dados - Matriz de Correlação Estatística\n",
    "Uma matriz é uma matriz de números organizados em linhas e colunas.\n",
    "\n",
    "Uma matriz de correlação é simplesmente uma tabela que mostra os coeficientes de correlação entre variáveis.\n",
    "\n",
    "Observamos que Duração e Calorie_Burnage estão intimamente relacionados, com coeficiente de correlação de 0,89. Isso faz sentido, pois quanto mais treinamos, mais calorias queimamos<br>\n",
    "Observamos que quase não há relações lineares entre Average_Pulse e Calorie_Burnage (coeficiente de correlação de 0,02)<br>\n",
    "Podemos concluir que Average_Pulse não afeta Calorie_Burnage? Não."
   ]
  },
  {
   "cell_type": "code",
   "execution_count": 49,
   "metadata": {},
   "outputs": [
    {
     "name": "stdout",
     "output_type": "stream",
     "text": [
      "                 Duration  Average_Pulse  Max_Pulse  Calorie_Burnage  \\\n",
      "Duration             1.00           0.42       0.52             0.42   \n",
      "Average_Pulse        0.42           1.00       0.97             1.00   \n",
      "Max_Pulse            0.52           0.97       1.00             0.97   \n",
      "Calorie_Burnage      0.42           1.00       0.97             1.00   \n",
      "Hours_Work          -0.63          -0.42      -0.56            -0.42   \n",
      "Hours_Sleep          0.30           0.87       0.84             0.87   \n",
      "\n",
      "                 Hours_Work  Hours_Sleep  \n",
      "Duration              -0.63         0.30  \n",
      "Average_Pulse         -0.42         0.87  \n",
      "Max_Pulse             -0.56         0.84  \n",
      "Calorie_Burnage       -0.42         0.87  \n",
      "Hours_Work             1.00        -0.17  \n",
      "Hours_Sleep           -0.17         1.00  \n"
     ]
    }
   ],
   "source": [
    "Corr_Matrix = round(base.corr(),2)\n",
    "print(Corr_Matrix)"
   ]
  },
  {
   "cell_type": "markdown",
   "metadata": {},
   "source": [
    "### Ciência de Dados - Regressão Linear\n",
    "\n",
    "#### Regressão linear\n",
    "O termo regressão é usado quando você tenta encontrar a relação entre variáveis.\n",
    "\n",
    "No Machine Learning e na modelagem estatística, esse relacionamento é usado para prever o resultado dos eventos."
   ]
  },
  {
   "cell_type": "markdown",
   "metadata": {},
   "source": [
    "#### Método dos mínimos quadrados\n",
    "\n",
    "A regressão linear usa o método dos mínimos quadrados.\n",
    "\n",
    "O conceito é traçar uma linha através de todos os pontos de dados plotados. A linha é posicionada de forma a minimizar a distância de todos os pontos de dados."
   ]
  },
  {
   "cell_type": "markdown",
   "metadata": {},
   "source": [
    "#### Ciência de Dados - Tabela de Regressão\n",
    "\n",
    "O conteúdo da tabela inclui:\n",
    "\n",
    "Informações sobre o modelo<br>\n",
    "Coeficientes da função de regressão linear<br>\n",
    "Estatísticas de regressão<br>\n",
    "Estatísticas dos coeficientes da função de regressão linear<br>\n",
    "\n",
    "\n",
    "#### Teste de hipóteses e valor P\n",
    "\n",
    "#### A hipótese nula pode ser rejeitada ou não.\n",
    "\n",
    "Se rejeitarmos a hipótese nula, concluímos que existe uma relação entre Average_Pulse e Calorie_Burnage. O valor P é usado para esta conclusão.<br>\n",
    "\n",
    "Um limite comum do valor P é 0,05.<br>\n",
    "\n",
    "Nota: Um valor P de 0,05 significa que 5% das vezes rejeitaremos falsamente a hipótese nula. Significa que aceitamos que 5% das vezes podemos ter concluído um relacionamento falsamente.<br>\n",
    "\n",
    "Se o valor P for inferior a 0,05, podemos rejeitar a hipótese nula e concluir que existe relação entre as variáveis.<br>\n",
    "\n",
    "No entanto, o valor P de Average_Pulse é 0,824. Portanto, não podemos concluir uma relação entre Average_Pulse e Calorie_Burnage.<br>\n",
    "\n",
    "Isso significa que há 82,4% de chance de que o verdadeiro coeficiente de Average_Pulse seja zero.<br>\n",
    "\n",
    "A interceptação é usada para ajustar a capacidade da função de regressão de prever com mais precisão. Portanto, é incomum interpretar o valor P da interceptação."
   ]
  },
  {
   "cell_type": "markdown",
   "metadata": {},
   "source": [
    "#### Ciência de Dados - Tabela de Regressão: R-Quadrado\n",
    "\n",
    "##### O valor de R-Quadrado está sempre entre 0 e 1 (0% a 100%).\n",
    "\n",
    "Um valor alto de R-quadrado significa que muitos pontos de dados estão próximos da linha da função de regressão linear.<br>\n",
    "Um valor baixo de R-quadrado significa que a linha da função de regressão linear não se ajusta bem aos dados."
   ]
  }
 ],
 "metadata": {
  "kernelspec": {
   "display_name": "Python 3",
   "language": "python",
   "name": "python3"
  },
  "language_info": {
   "codemirror_mode": {
    "name": "ipython",
    "version": 3
   },
   "file_extension": ".py",
   "mimetype": "text/x-python",
   "name": "python",
   "nbconvert_exporter": "python",
   "pygments_lexer": "ipython3",
   "version": "3.12.4"
  }
 },
 "nbformat": 4,
 "nbformat_minor": 2
}
